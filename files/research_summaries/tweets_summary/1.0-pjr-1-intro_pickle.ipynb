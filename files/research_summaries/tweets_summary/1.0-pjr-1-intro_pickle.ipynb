{
 "cells": [
  {
   "cell_type": "code",
   "execution_count": 2,
   "metadata": {},
   "outputs": [],
   "source": [
    "import pandas as pd\n",
    "\n",
    "# Change the directory to download the data and return to the notebooks folder.\n",
    "df_raw = pd.read_csv('tweets_df_raw.csv')"
   ]
  },
  {
   "cell_type": "code",
   "execution_count": 3,
   "metadata": {},
   "outputs": [],
   "source": [
    "df_raw = df_raw.drop(df_raw.columns[0], 1) # Delete the \"Unnamed\" column, which is a duplicate of the index"
   ]
  },
  {
   "cell_type": "code",
   "execution_count": 4,
   "metadata": {},
   "outputs": [],
   "source": [
    "# Strip date and time information from original \"date\" feature\n",
    "df_raw['date_'] = df_raw.date.str[:10]\n",
    "df_raw['user_join_date_'] = df_raw.user_join_date.str[:10]\n",
    "df_raw['utc_time'] = df_raw.date.str[11:19]"
   ]
  },
  {
   "cell_type": "code",
   "execution_count": 5,
   "metadata": {},
   "outputs": [],
   "source": [
    "# Convert date and time to DateTime types\n",
    "df_raw['date_'] = pd.to_datetime(df_raw['date_'])\n",
    "df_raw['event_date'] = '2020-05-25'\n",
    "df_raw['event_date'] = pd.to_datetime(df_raw['event_date'])\n",
    "df_raw['user_join_date_'] = pd.to_datetime(df_raw['user_join_date_'])\n",
    "df_raw['date_'].fillna(0)\n",
    "df_raw['event_date'].fillna(0)\n",
    "df_raw['user_join_date'].fillna(0)\n",
    "\n",
    "df_raw['utc_time'] = pd.to_datetime(df_raw['utc_time']).dt.strftime('%H%M%S')\n",
    "\n",
    "# Drop original date column, rename \"date_\" column as \"date\"\n",
    "df_raw = df_raw.drop(columns=['date', 'user_join_date'])\n",
    "df_raw = df_raw.rename(columns={'date_': 'date', 'user_join_date_': 'user_join_date'})\n",
    "df_raw['user_days_on_twitter'] = (df_raw['event_date'] - df_raw['user_join_date']).dt.days\n",
    "df_raw['days_from_event'] = (df_raw['date'] - df_raw['event_date']).dt.days\n",
    "df_1 = df_raw.copy()"
   ]
  },
  {
   "cell_type": "code",
   "execution_count": 6,
   "metadata": {},
   "outputs": [],
   "source": [
    "df_1.to_pickle('df_1_a.pkl', protocol=4)"
   ]
  },
  {
   "cell_type": "code",
   "execution_count": null,
   "metadata": {},
   "outputs": [],
   "source": []
  }
 ],
 "metadata": {
  "kernelspec": {
   "display_name": ".venv",
   "language": "python",
   "name": ".venv"
  },
  "language_info": {
   "codemirror_mode": {
    "name": "ipython",
    "version": 3
   },
   "file_extension": ".py",
   "mimetype": "text/x-python",
   "name": "python",
   "nbconvert_exporter": "python",
   "pygments_lexer": "ipython3",
   "version": "3.8.6"
  }
 },
 "nbformat": 4,
 "nbformat_minor": 4
}
