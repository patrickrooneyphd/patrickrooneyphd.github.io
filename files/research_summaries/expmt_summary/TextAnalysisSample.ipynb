{
 "cells": [
  {
   "cell_type": "code",
   "execution_count": 44,
   "metadata": {},
   "outputs": [],
   "source": [
    "import numpy as np\n",
    "import pandas as pd\n",
    "import os\n",
    "import re\n",
    "import nltk\n",
    "import keras\n",
    "import itertools\n",
    "import matplotlib.pyplot as plt\n",
    "import seaborn as sns\n",
    "\n",
    "#from textblob import TextBlob\n",
    "from sklearn.feature_extraction.text import CountVectorizer\n",
    "from sklearn.feature_extraction.text import TfidfVectorizer\n",
    "from sklearn.linear_model import LogisticRegression\n",
    "from sklearn.metrics import accuracy_score\n",
    "from sklearn.model_selection import train_test_split\n",
    "from sklearn.metrics import confusion_matrix\n",
    "\n",
    "#nltk.download(\"vader_lexicon\")"
   ]
  },
  {
   "cell_type": "code",
   "execution_count": 62,
   "metadata": {},
   "outputs": [],
   "source": [
    "# Import cleaned, by-round, combined study dataset\n",
    "\n",
    "df = pd.read_csv(\"PoliticalStances_Combined_ByRound\", converters = {'free_response_r1': str, 'free_response_r2': str})\n",
    "\n",
    "#Create mismatch df \n",
    "df = df[df['round_number']==1]\n",
    "\n",
    "df_mm = df[(df['match']==0)]\n",
    "df_m = df[(df['match']==1)]\n",
    "df_c = df[(df['match']==2)]\n",
    "\n",
    "df_list = [df_mm, df_m, df_c]"
   ]
  },
  {
   "cell_type": "code",
   "execution_count": 24,
   "metadata": {},
   "outputs": [],
   "source": [
    "def format_dfs(df, label_no):\n",
    "    df = df[['match', 'free_response_2', 'cause', 'liberal']].fillna(\"empty\")\n",
    "    df.rename(columns={'free_response_2': 'response'}, inplace=True)\n",
    "    labels = {label_no: 'mismatch'}\n",
    "    df['label'] = df['match']\n",
    "    df['label'].replace(labels, inplace=True)\n",
    "    df.reset_index(drop=True, inplace=True)\n",
    "    return df\n",
    "\n",
    "df_mm = format_dfs(df_mm, 0)\n",
    "df_m = format_dfs(df_m, 1)\n",
    "df_c = format_dfs(df_c, 2)"
   ]
  },
  {
   "cell_type": "code",
   "execution_count": 51,
   "metadata": {},
   "outputs": [],
   "source": [
    "# Replace standardized text using RegEx, set words to lowercase\n",
    "\n",
    "from nltk.corpus import stopwords\n",
    "\n",
    "stop_words = stopwords.words(\"english\")\n",
    "\n",
    "def standardize_text(df, text_field):\n",
    "    df[text_field] = df[text_field].str.replace(r\"[^A-Za-z0-9(),!?@\\'\\`\\\"\\_\\n]\", \" \", regex=True)\n",
    "    df[text_field] = df[text_field].str.replace(r\"@\", \"at\")\n",
    "    df[text_field] = df[text_field].str.replace(r\"%\", \"\")\n",
    "    df[text_field] = df[text_field].str.replace(r\"[0-9]+\", \"\", regex=True)\n",
    "    df[text_field] = df[text_field].str.lower()\n",
    "    df[text_field] = df[text_field].str.strip()\n",
    "    df[text_field] = df[text_field].apply(lambda x: ' '.join([word for word in x.split() if word not in stop_words]))\n",
    "    return df\n",
    "\n",
    "df_mm_clean = standardize_text(df_mm, \"response\")\n",
    "df_m_clean = standardize_text(df_m, \"response\")\n",
    "df_c_clean = standardize_text(df_c, \"response\")\n",
    "\n",
    "#print(df_mm_clean.groupby(\"label\").count())"
   ]
  },
  {
   "cell_type": "code",
   "execution_count": 26,
   "metadata": {},
   "outputs": [],
   "source": [
    "## Pre-processing the data\n",
    "# Tokenizing responses\n",
    "\n",
    "from nltk.tokenize import RegexpTokenizer\n",
    "\n",
    "tokenizer = RegexpTokenizer(r'\\w+')\n",
    "\n",
    "def tokenize_responses(df, token_field, text_field):\n",
    "    df[token_field] = df[text_field].apply(tokenizer.tokenize)\n",
    "    return df[token_field]\n",
    "\n",
    "df_mm_clean[\"tokens\"] = tokenize_responses(df_mm_clean, \"tokens\", \"response\")\n",
    "df_m_clean[\"tokens\"] = tokenize_responses(df_m_clean, \"tokens\", \"response\")\n",
    "df_c_clean[\"tokens\"] = tokenize_responses(df_c_clean, \"tokens\", \"response\")"
   ]
  },
  {
   "cell_type": "code",
   "execution_count": 27,
   "metadata": {},
   "outputs": [
    {
     "name": "stdout",
     "output_type": "stream",
     "text": [
      "FULL CORPUS\n",
      "MISMATCH: 2562 words total, with a vocabulary size of 730\n",
      "Mean sentence length is 8.51\n",
      " \n",
      "MATCH: 2727 words total, with a vocabulary size of 756\n",
      "Mean sentence length is 9.0\n",
      " \n",
      "CONTROL: 1914 words total, with a vocabulary size of 606\n",
      "Mean sentence length is 9.57\n"
     ]
    }
   ],
   "source": [
    "# print(\"FULL CORPUS\")\n",
    "\n",
    "all_words_mm = [word for tokens in df_mm_clean[\"tokens\"] for word in tokens]\n",
    "sentence_lengths_mm = [len(tokens) for tokens in df_mm_clean[\"tokens\"]]\n",
    "VOCAB_mm = sorted(list(set(all_words_mm)))\n",
    "# print(\"MISMATCH: %s words total, with a vocabulary size of %s\" % (len(all_words_mm), len(VOCAB_mm)))\n",
    "# print(\"Mean sentence length is %s\" % round(np.mean(sentence_lengths_mm), 2))\n",
    "# print(\" \")\n",
    "\n",
    "all_words_m = [word for tokens in df_m_clean[\"tokens\"] for word in tokens]\n",
    "sentence_lengths_m = [len(tokens) for tokens in df_m_clean[\"tokens\"]]\n",
    "VOCAB_m = sorted(list(set(all_words_m)))\n",
    "# print(\"MATCH: %s words total, with a vocabulary size of %s\" % (len(all_words_m), len(VOCAB_m)))\n",
    "# print(\"Mean sentence length is %s\" % round(np.mean(sentence_lengths_m), 2))\n",
    "# print(\" \")\n",
    "\n",
    "all_words_c = [word for tokens in df_c_clean[\"tokens\"] for word in tokens]\n",
    "sentence_lengths_c = [len(tokens) for tokens in df_c_clean[\"tokens\"]]\n",
    "VOCAB_c = sorted(list(set(all_words_c)))\n",
    "# print(\"CONTROL: %s words total, with a vocabulary size of %s\" % (len(all_words_c), len(VOCAB_c)))\n",
    "# print(\"Mean sentence length is %s\" % round(np.mean(sentence_lengths_c), 2))\n"
   ]
  },
  {
   "cell_type": "code",
   "execution_count": 28,
   "metadata": {},
   "outputs": [],
   "source": [
    "# Focus on Mismatch Condition\n",
    "# Corpus to List / Train-Test Split\n",
    "\n",
    "from sklearn.model_selection import train_test_split\n",
    "from sklearn.feature_extraction.text import CountVectorizer, TfidfVectorizer\n",
    "from sklearn.metrics import accuracy_score, f1_score, precision_score, recall_score, classification_report\n",
    "import itertools\n",
    "from sklearn.metrics import confusion_matrix\n",
    "\n",
    "# Send Corpuses to Lists\n",
    "list_corpus_mm = df_mm_clean[\"response\"].tolist()\n",
    "list_labels_mm = df_mm_clean[\"liberal\"].tolist()\n",
    "\n",
    "# Train Test Split for Full Corpus\n",
    "X_train_mm, X_test_mm, y_train_mm, y_test_mm = train_test_split(list_corpus_mm, list_labels_mm, test_size=0.2, \n",
    "                                                                                random_state=1)\n"
   ]
  },
  {
   "cell_type": "code",
   "execution_count": 29,
   "metadata": {},
   "outputs": [],
   "source": [
    "# Vectorize (bigrams) train and text sets \n",
    "\n",
    "cv_mm = CountVectorizer(binary=True, ngram_range=(1, 2))\n",
    "X_train_counts_mm = cv_mm.fit_transform(X_train_mm)\n",
    "X_test_counts_mm = cv_mm.transform(X_test_mm)"
   ]
  },
  {
   "cell_type": "code",
   "execution_count": 30,
   "metadata": {},
   "outputs": [
    {
     "name": "stdout",
     "output_type": "stream",
     "text": [
      "    \n",
      "Mismatched Model\n",
      "    \n",
      "Accuracy for C=0.01: 0.6708333333333333\n",
      "Accuracy for C=0.05: 0.8\n",
      "Accuracy for C=0.25: 0.9375\n",
      "Accuracy for C=0.5: 0.9708333333333333\n",
      "Accuracy for C=1: 0.975\n",
      "Accuracy for C=5: 0.9875\n",
      "Accuracy for C=10: 0.9875\n",
      "Accuracy for C=20: 0.9875\n"
     ]
    }
   ],
   "source": [
    "# Fitting a classifier (Logistic Regression)\n",
    "\n",
    "clf_mm = LogisticRegression()\n",
    "model_names = [\"Mismatched\"]\n",
    "index = 0\n",
    "\n",
    "def c_values_accuracy(model, train_counts, train_target, index):\n",
    "    for c in [0.01, 0.05, 0.25, 0.5, 1, 5, 10, 20]:\n",
    "        if c == 0.01:\n",
    "            print (\"    \")\n",
    "            print (model_names[index] + \" Model\")\n",
    "            print (\"    \")\n",
    "        model = LogisticRegression(C=c)\n",
    "        model.fit(train_counts, train_target)\n",
    "        print (\"Accuracy for C=%s: %s\" \n",
    "               % (c, accuracy_score(train_target, model.predict(train_counts))))\n",
    "        \n",
    "        \n",
    "        \n",
    "# c_values_accuracy(clf_mm, X_train_counts_mm, y_train_mm, 0)"
   ]
  },
  {
   "cell_type": "code",
   "execution_count": 31,
   "metadata": {},
   "outputs": [],
   "source": [
    "# Fit logistic regression with c=1 penalty term (accuracy > 0.95 in train set)\n",
    "\n",
    "clf_mm = LogisticRegression(C=1, random_state=2)\n",
    "clf_mm.fit(X_train_counts_mm, y_train_mm)\n",
    "y_predicted_counts_mm = clf_mm.predict(X_test_counts_mm)"
   ]
  },
  {
   "cell_type": "code",
   "execution_count": 32,
   "metadata": {},
   "outputs": [
    {
     "name": "stdout",
     "output_type": "stream",
     "text": [
      "Mismatched Model\n",
      "accuracy = 0.754, precision = 0.745, recall = 0.754, f1 = 0.738\n",
      " \n"
     ]
    }
   ],
   "source": [
    "# Model Evaluation\n",
    "\n",
    "def get_metrics(y_test, y_predicted):\n",
    "    #true positives / (TP + FP)\n",
    "    precision = precision_score(y_test, y_predicted, pos_label=None,\n",
    "                                average='weighted')\n",
    "    #TP / (TP + FN)\n",
    "    recall = recall_score(y_test, y_predicted, pos_label=None,\n",
    "                                average='weighted')\n",
    "    \n",
    "    #Harmonic mean of precision and recall:\n",
    "    f1 = f1_score(y_test, y_predicted, pos_label=None,\n",
    "                                average='weighted')\n",
    "    \n",
    "    #TP + TN / Total\n",
    "    accuracy = accuracy_score(y_test, y_predicted)\n",
    "    return accuracy, precision, recall, f1\n",
    "\n",
    "accuracy, precision, recall, f1 = get_metrics(y_test_mm, y_predicted_counts_mm)\n",
    "# print(\"Mismatched Model\")\n",
    "# print(\"accuracy = %.3f, precision = %.3f, recall = %.3f, f1 = %.3f\" % (accuracy, precision, recall, f1))\n",
    "# print(\" \")"
   ]
  },
  {
   "cell_type": "code",
   "execution_count": 33,
   "metadata": {},
   "outputs": [],
   "source": [
    "# Plot confusion matrix\n",
    "\n",
    "def plot_confusion_matrix(cm, classes, normalize=False,\n",
    "                         title='Confusion matrix', \n",
    "                         cmap=plt.cm.winter):\n",
    "    if normalize: \n",
    "        cm = cm.astype('float') / cm.sum(axis=1)[:np.newaxis]\n",
    "    plt.imshow(cm, interpolation='nearest', cmap=cmap)\n",
    "    plt.title(title, fontsize=30)\n",
    "    plt.colorbar()\n",
    "    tick_marks = np.arange(len(classes))\n",
    "    plt.xticks(tick_marks, classes, fontsize=20)\n",
    "    plt.yticks(tick_marks, classes, fontsize=20)\n",
    "    \n",
    "    fmt = '.2f' if normalize else 'd'\n",
    "    thresh = cm.max() / 2.\n",
    "\n",
    "    for i, j in itertools.product(range(cm.shape[0]), range(cm.shape[1])):\n",
    "        plt.text(j, i, format(cm[i, j], fmt), horizontalalignment=\"center\", \n",
    "                 color=\"white\" if cm[i, j] < thresh else \"black\", fontsize=40)\n",
    "    \n",
    "    plt.tight_layout()\n",
    "    plt.ylabel('True label', fontsize=30)\n",
    "    plt.xlabel('Predicted label', fontsize=30)\n",
    "\n",
    "    return plt"
   ]
  },
  {
   "cell_type": "code",
   "execution_count": 34,
   "metadata": {},
   "outputs": [
    {
     "data": {
      "image/png": "[encoded data removed]",
      "text/plain": [
       "<Figure size 720x720 with 2 Axes>"
      ]
     },
     "metadata": {
      "needs_background": "light"
     },
     "output_type": "display_data"
    }
   ],
   "source": [
    "# cm = confusion_matrix(y_test_mm, y_predicted_counts_mm)\n",
    "# fig = plt.figure(figsize=(10, 10))\n",
    "# plot = plot_confusion_matrix(cm, classes=['Conservative','Liberal'], normalize=False, title='Confusion matrix')\n",
    "# plt.show()\n",
    "# print(cm)"
   ]
  },
  {
   "cell_type": "code",
   "execution_count": 48,
   "metadata": {},
   "outputs": [],
   "source": [
    "# Show words with largest importance factor for each group\n",
    "\n",
    "def top_10_words(c_vect, model):\n",
    "    top_words_list = []\n",
    "    feature_to_coef = {\n",
    "        word: coef for word, coef in zip(\n",
    "            c_vect.get_feature_names(), model.coef_[0]\n",
    "        )\n",
    "    }\n",
    "    for best_positive in sorted(feature_to_coef.items(), key=lambda x: x[1], reverse=True)[:10]:\n",
    "        top_words_list.append(best_positive)\n",
    "        \n",
    "    for best_negative in sorted(feature_to_coef.items(), key=lambda x: x[1])[:10]:\n",
    "        top_words_list.append(best_negative)\n",
    "\n",
    "    return top_words_list\n",
    "    "
   ]
  },
  {
   "cell_type": "code",
   "execution_count": 49,
   "metadata": {},
   "outputs": [],
   "source": [
    "word_list = top_10_words(cv_mm, clf_mm)\n",
    "word_df = pd.DataFrame(word_list, columns=['Words', 'Importance Factor'])"
   ]
  },
  {
   "cell_type": "code",
   "execution_count": null,
   "metadata": {},
   "outputs": [],
   "source": []
  }
 ],
 "metadata": {
  "kernelspec": {
   "display_name": "Python 3",
   "language": "python",
   "name": "python3"
  },
  "language_info": {
   "codemirror_mode": {
    "name": "ipython",
    "version": 3
   },
   "file_extension": ".py",
   "mimetype": "text/x-python",
   "name": "python",
   "nbconvert_exporter": "python",
   "pygments_lexer": "ipython3",
   "version": "3.7.3"
  }
 },
 "nbformat": 4,
 "nbformat_minor": 4
}
